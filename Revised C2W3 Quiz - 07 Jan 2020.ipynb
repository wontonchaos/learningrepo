

```python
import numpy as np
import pandas as pd
from scipy.stats import t
pd.set_option('display.max_columns', 30) # set so can see all columns of the DataFrame
```


```python
# Import the data
df = pd.read_csv("nap_no_nap.csv")
```


```python
# First, look at the DataFrame to get a sense of the data
df
```




<div>
<style scoped>
    .dataframe tbody tr th:only-of-type {
        vertical-align: middle;
    }

    .dataframe tbody tr th {
        vertical-align: top;
    }

    .dataframe thead th {
        text-align: right;
    }
</style>
<table border="1" class="dataframe">
  <thead>
    <tr style="text-align: right;">
      <th></th>
      <th>id</th>
      <th>sex</th>
      <th>age (months)</th>
      <th>dlmo time</th>
      <th>days napped</th>
      <th>napping</th>
      <th>nap lights outl time</th>
      <th>nap sleep onset</th>
      <th>nap midsleep</th>
      <th>nap sleep offset</th>
      <th>nap wake time</th>
      <th>nap duration</th>
      <th>nap time in bed</th>
      <th>night bedtime</th>
      <th>night sleep onset</th>
      <th>sleep onset latency</th>
      <th>night midsleep time</th>
      <th>night wake time</th>
      <th>night sleep duration</th>
      <th>night time in bed</th>
      <th>24 h sleep duration</th>
      <th>bedtime phase difference</th>
      <th>sleep onset phase difference</th>
      <th>midsleep phase difference</th>
      <th>wake time phase difference</th>
    </tr>
  </thead>
  <tbody>
    <tr>
      <th>0</th>
      <td>1</td>
      <td>female</td>
      <td>33.7</td>
      <td>19.24</td>
      <td>0</td>
      <td>0</td>
      <td>NaN</td>
      <td>NaN</td>
      <td>NaN</td>
      <td>NaN</td>
      <td>NaN</td>
      <td>NaN</td>
      <td>NaN</td>
      <td>20.45</td>
      <td>20.68</td>
      <td>0.23</td>
      <td>1.92</td>
      <td>7.17</td>
      <td>629.40</td>
      <td>643.00</td>
      <td>629.40</td>
      <td>-1.21</td>
      <td>-1.44</td>
      <td>6.68</td>
      <td>11.93</td>
    </tr>
    <tr>
      <th>1</th>
      <td>2</td>
      <td>female</td>
      <td>31.5</td>
      <td>18.27</td>
      <td>0</td>
      <td>0</td>
      <td>NaN</td>
      <td>NaN</td>
      <td>NaN</td>
      <td>NaN</td>
      <td>NaN</td>
      <td>NaN</td>
      <td>NaN</td>
      <td>19.23</td>
      <td>19.48</td>
      <td>0.25</td>
      <td>1.09</td>
      <td>6.69</td>
      <td>672.40</td>
      <td>700.40</td>
      <td>672.40</td>
      <td>-0.96</td>
      <td>-1.21</td>
      <td>6.82</td>
      <td>12.42</td>
    </tr>
    <tr>
      <th>2</th>
      <td>3</td>
      <td>male</td>
      <td>31.9</td>
      <td>19.14</td>
      <td>0</td>
      <td>0</td>
      <td>NaN</td>
      <td>NaN</td>
      <td>NaN</td>
      <td>NaN</td>
      <td>NaN</td>
      <td>NaN</td>
      <td>NaN</td>
      <td>19.60</td>
      <td>20.05</td>
      <td>0.45</td>
      <td>1.29</td>
      <td>6.53</td>
      <td>628.80</td>
      <td>682.60</td>
      <td>628.80</td>
      <td>-0.46</td>
      <td>-0.91</td>
      <td>6.15</td>
      <td>11.39</td>
    </tr>
    <tr>
      <th>3</th>
      <td>4</td>
      <td>female</td>
      <td>31.6</td>
      <td>19.69</td>
      <td>0</td>
      <td>0</td>
      <td>NaN</td>
      <td>NaN</td>
      <td>NaN</td>
      <td>NaN</td>
      <td>NaN</td>
      <td>NaN</td>
      <td>NaN</td>
      <td>19.46</td>
      <td>19.50</td>
      <td>0.05</td>
      <td>1.89</td>
      <td>8.28</td>
      <td>766.60</td>
      <td>784.00</td>
      <td>766.60</td>
      <td>0.23</td>
      <td>0.19</td>
      <td>6.20</td>
      <td>12.59</td>
    </tr>
    <tr>
      <th>4</th>
      <td>5</td>
      <td>female</td>
      <td>33.0</td>
      <td>19.52</td>
      <td>0</td>
      <td>0</td>
      <td>NaN</td>
      <td>NaN</td>
      <td>NaN</td>
      <td>NaN</td>
      <td>NaN</td>
      <td>NaN</td>
      <td>NaN</td>
      <td>19.21</td>
      <td>19.65</td>
      <td>0.45</td>
      <td>1.30</td>
      <td>6.95</td>
      <td>678.00</td>
      <td>718.00</td>
      <td>678.00</td>
      <td>0.31</td>
      <td>-0.13</td>
      <td>5.78</td>
      <td>11.43</td>
    </tr>
    <tr>
      <th>5</th>
      <td>6</td>
      <td>female</td>
      <td>36.2</td>
      <td>18.22</td>
      <td>4</td>
      <td>1</td>
      <td>14.00</td>
      <td>14.22</td>
      <td>15.00</td>
      <td>15.78</td>
      <td>16.28</td>
      <td>93.75</td>
      <td>137.00</td>
      <td>19.95</td>
      <td>20.25</td>
      <td>0.29</td>
      <td>1.26</td>
      <td>6.28</td>
      <td>602.20</td>
      <td>653.80</td>
      <td>695.95</td>
      <td>-1.73</td>
      <td>-2.03</td>
      <td>7.05</td>
      <td>12.06</td>
    </tr>
    <tr>
      <th>6</th>
      <td>7</td>
      <td>male</td>
      <td>36.3</td>
      <td>19.28</td>
      <td>1</td>
      <td>1</td>
      <td>14.75</td>
      <td>15.03</td>
      <td>15.92</td>
      <td>16.80</td>
      <td>16.08</td>
      <td>106.00</td>
      <td>80.00</td>
      <td>20.60</td>
      <td>20.96</td>
      <td>0.36</td>
      <td>2.12</td>
      <td>7.27</td>
      <td>618.40</td>
      <td>655.40</td>
      <td>724.40</td>
      <td>-1.32</td>
      <td>-1.68</td>
      <td>6.84</td>
      <td>11.99</td>
    </tr>
    <tr>
      <th>7</th>
      <td>8</td>
      <td>male</td>
      <td>30.0</td>
      <td>21.06</td>
      <td>5</td>
      <td>1</td>
      <td>13.09</td>
      <td>13.43</td>
      <td>14.44</td>
      <td>15.46</td>
      <td>15.82</td>
      <td>121.60</td>
      <td>163.80</td>
      <td>22.01</td>
      <td>22.53</td>
      <td>0.51</td>
      <td>2.92</td>
      <td>7.31</td>
      <td>526.80</td>
      <td>582.40</td>
      <td>648.40</td>
      <td>-0.95</td>
      <td>-1.47</td>
      <td>5.86</td>
      <td>10.25</td>
    </tr>
    <tr>
      <th>8</th>
      <td>9</td>
      <td>male</td>
      <td>33.2</td>
      <td>19.38</td>
      <td>2</td>
      <td>1</td>
      <td>14.41</td>
      <td>14.42</td>
      <td>15.71</td>
      <td>17.01</td>
      <td>16.60</td>
      <td>155.50</td>
      <td>131.25</td>
      <td>20.24</td>
      <td>20.37</td>
      <td>0.13</td>
      <td>1.60</td>
      <td>6.82</td>
      <td>626.80</td>
      <td>660.33</td>
      <td>782.30</td>
      <td>-0.86</td>
      <td>-0.99</td>
      <td>6.22</td>
      <td>11.44</td>
    </tr>
    <tr>
      <th>9</th>
      <td>10</td>
      <td>female</td>
      <td>37.1</td>
      <td>19.93</td>
      <td>3</td>
      <td>1</td>
      <td>13.12</td>
      <td>13.42</td>
      <td>14.31</td>
      <td>15.19</td>
      <td>15.30</td>
      <td>106.67</td>
      <td>130.67</td>
      <td>20.78</td>
      <td>21.63</td>
      <td>0.84</td>
      <td>2.20</td>
      <td>6.52</td>
      <td>549.50</td>
      <td>626.00</td>
      <td>656.17</td>
      <td>-0.76</td>
      <td>-1.82</td>
      <td>6.21</td>
      <td>10.59</td>
    </tr>
    <tr>
      <th>10</th>
      <td>11</td>
      <td>male</td>
      <td>32.9</td>
      <td>18.79</td>
      <td>4</td>
      <td>1</td>
      <td>13.99</td>
      <td>14.03</td>
      <td>14.85</td>
      <td>15.68</td>
      <td>16.10</td>
      <td>98.75</td>
      <td>126.60</td>
      <td>19.45</td>
      <td>19.88</td>
      <td>0.44</td>
      <td>1.34</td>
      <td>6.80</td>
      <td>655.20</td>
      <td>694.80</td>
      <td>753.95</td>
      <td>-0.66</td>
      <td>-1.09</td>
      <td>6.55</td>
      <td>12.01</td>
    </tr>
    <tr>
      <th>11</th>
      <td>12</td>
      <td>female</td>
      <td>35.0</td>
      <td>19.65</td>
      <td>5</td>
      <td>1</td>
      <td>13.18</td>
      <td>13.45</td>
      <td>14.33</td>
      <td>15.21</td>
      <td>15.35</td>
      <td>105.80</td>
      <td>130.40</td>
      <td>20.18</td>
      <td>20.84</td>
      <td>0.66</td>
      <td>1.93</td>
      <td>7.03</td>
      <td>611.20</td>
      <td>660.40</td>
      <td>717.00</td>
      <td>-0.53</td>
      <td>-1.19</td>
      <td>6.28</td>
      <td>11.38</td>
    </tr>
    <tr>
      <th>12</th>
      <td>13</td>
      <td>male</td>
      <td>35.1</td>
      <td>19.83</td>
      <td>3</td>
      <td>1</td>
      <td>13.94</td>
      <td>14.48</td>
      <td>15.26</td>
      <td>16.03</td>
      <td>15.78</td>
      <td>93.33</td>
      <td>110.20</td>
      <td>20.22</td>
      <td>20.89</td>
      <td>0.67</td>
      <td>1.99</td>
      <td>7.09</td>
      <td>611.80</td>
      <td>662.20</td>
      <td>705.13</td>
      <td>-0.39</td>
      <td>-1.06</td>
      <td>6.16</td>
      <td>11.26</td>
    </tr>
    <tr>
      <th>13</th>
      <td>14</td>
      <td>female</td>
      <td>35.6</td>
      <td>19.88</td>
      <td>4</td>
      <td>1</td>
      <td>12.68</td>
      <td>13.08</td>
      <td>13.92</td>
      <td>14.76</td>
      <td>15.00</td>
      <td>100.75</td>
      <td>139.33</td>
      <td>20.26</td>
      <td>20.80</td>
      <td>0.54</td>
      <td>1.96</td>
      <td>7.11</td>
      <td>618.80</td>
      <td>671.20</td>
      <td>719.55</td>
      <td>-0.38</td>
      <td>-0.92</td>
      <td>6.08</td>
      <td>11.23</td>
    </tr>
    <tr>
      <th>14</th>
      <td>15</td>
      <td>female</td>
      <td>36.6</td>
      <td>19.94</td>
      <td>4</td>
      <td>1</td>
      <td>12.71</td>
      <td>12.88</td>
      <td>13.80</td>
      <td>14.72</td>
      <td>14.88</td>
      <td>110.75</td>
      <td>130.00</td>
      <td>20.28</td>
      <td>20.92</td>
      <td>0.64</td>
      <td>1.49</td>
      <td>6.33</td>
      <td>548.00</td>
      <td>595.00</td>
      <td>658.75</td>
      <td>-0.34</td>
      <td>-0.90</td>
      <td>5.64</td>
      <td>10.39</td>
    </tr>
    <tr>
      <th>15</th>
      <td>16</td>
      <td>male</td>
      <td>36.5</td>
      <td>20.25</td>
      <td>3</td>
      <td>1</td>
      <td>13.74</td>
      <td>14.68</td>
      <td>15.66</td>
      <td>16.64</td>
      <td>16.45</td>
      <td>117.33</td>
      <td>162.75</td>
      <td>20.46</td>
      <td>21.25</td>
      <td>0.79</td>
      <td>2.19</td>
      <td>7.13</td>
      <td>593.25</td>
      <td>662.00</td>
      <td>710.58</td>
      <td>-0.21</td>
      <td>-1.00</td>
      <td>5.94</td>
      <td>10.88</td>
    </tr>
    <tr>
      <th>16</th>
      <td>17</td>
      <td>female</td>
      <td>33.7</td>
      <td>20.33</td>
      <td>5</td>
      <td>1</td>
      <td>13.15</td>
      <td>13.87</td>
      <td>14.49</td>
      <td>15.11</td>
      <td>15.40</td>
      <td>74.20</td>
      <td>135.00</td>
      <td>20.43</td>
      <td>21.03</td>
      <td>0.60</td>
      <td>2.44</td>
      <td>7.86</td>
      <td>649.80</td>
      <td>708.60</td>
      <td>724.00</td>
      <td>-0.10</td>
      <td>-0.70</td>
      <td>6.12</td>
      <td>11.53</td>
    </tr>
    <tr>
      <th>17</th>
      <td>18</td>
      <td>male</td>
      <td>36.4</td>
      <td>20.16</td>
      <td>5</td>
      <td>1</td>
      <td>12.47</td>
      <td>12.56</td>
      <td>13.30</td>
      <td>14.05</td>
      <td>14.25</td>
      <td>89.80</td>
      <td>107.00</td>
      <td>20.02</td>
      <td>20.45</td>
      <td>0.43</td>
      <td>1.23</td>
      <td>6.01</td>
      <td>573.60</td>
      <td>614.60</td>
      <td>663.40</td>
      <td>0.14</td>
      <td>-0.29</td>
      <td>5.07</td>
      <td>9.85</td>
    </tr>
    <tr>
      <th>18</th>
      <td>19</td>
      <td>female</td>
      <td>33.6</td>
      <td>19.68</td>
      <td>3</td>
      <td>1</td>
      <td>14.71</td>
      <td>14.85</td>
      <td>15.46</td>
      <td>16.07</td>
      <td>16.20</td>
      <td>73.00</td>
      <td>89.40</td>
      <td>19.50</td>
      <td>19.64</td>
      <td>0.14</td>
      <td>1.42</td>
      <td>7.20</td>
      <td>693.40</td>
      <td>715.00</td>
      <td>766.40</td>
      <td>0.18</td>
      <td>0.04</td>
      <td>5.74</td>
      <td>11.52</td>
    </tr>
    <tr>
      <th>19</th>
      <td>20</td>
      <td>male</td>
      <td>33.8</td>
      <td>20.51</td>
      <td>3</td>
      <td>1</td>
      <td>12.68</td>
      <td>13.54</td>
      <td>14.30</td>
      <td>15.07</td>
      <td>15.23</td>
      <td>91.67</td>
      <td>152.67</td>
      <td>20.18</td>
      <td>21.38</td>
      <td>1.19</td>
      <td>2.51</td>
      <td>7.63</td>
      <td>615.33</td>
      <td>692.00</td>
      <td>707.00</td>
      <td>0.33</td>
      <td>-0.87</td>
      <td>6.00</td>
      <td>11.12</td>
    </tr>
  </tbody>
</table>
</div>




```python
# In order to find the number of rows in a dataframe, we can find the shape using 
# df.shape. This returns the rows and columns in a tuple (in parenthesis). We can
# extract the first number which is the number of rows to get the sample count
sample_size = df.shape[0]
print("There are {} samples in our dataset".format(sample_size))
```


```python
# First, get a list of true & false if someone naps or not
this_person_naps = df['napping'] == 1
# Subset our dataframe for those people who nap
nap_bedtime = df['night bedtime'][this_person_naps]
nap_bedtime
```




    5     19.95
    6     20.60
    7     22.01
    8     20.24
    9     20.78
    10    19.45
    11    20.18
    12    20.22
    13    20.26
    14    20.28
    15    20.46
    16    20.43
    17    20.02
    18    19.50
    19    20.18
    Name: night bedtime, dtype: float64




```python
# There is a special function in numpy, called np.logical_not which turns true 
# into false and false into true. We can use this function to find those people 
# who do not nap
this_person_doesnt_nap = np.logical_not(this_person_naps)
no_nap_bedtime = df['night bedtime'][this_person_doesnt_nap] 
no_nap_bedtime
```




    0    20.45
    1    19.23
    2    19.60
    3    19.46
    4    19.21
    Name: night bedtime, dtype: float64




```python
nap_mean_bedtime = np.mean(nap_bedtime)
nap_mean_bedtime
```




    20.304




```python
no_nap_mean_bedtime = np.mean(no_nap_bedtime)
no_nap_mean_bedtime
```




    19.590000000000003




```python
df['night bedtime'].mean()
```




    20.1255




```python
# We can just subtract the means to get the sample difference
sample_difference = nap_mean_bedtime - no_nap_mean_bedtime
"The sample difference sleep time of nappers less non-nappers is: {:.3f}".format(sample_difference)
```




    'The sample difference sleep time of nappers less non-nappers is: 0.714'




```python
# The np.std function can be used to find the standard deviation. The
# ddof parameter must be set to 1 to get the sample standard deviation.
# If it is not, you will be using the population standard deviation which
# is not the correct estimator
nap_s_bedtime = np.std(nap_bedtime, ddof = 1)
nap_s_bedtime
```




    0.5910619981984009




```python
no_nap_s_bedtime = np.std(no_nap_bedtime, ddof = 1)
no_nap_s_bedtime
```




    0.5075923561284187




```python
# To get the number of rows in a dataframe, you can get the shape of the dataframe 
# and then just get the first element.
n1 = nap_bedtime.shape[0]
n2 = no_nap_bedtime.shape[0]
s1 = nap_s_bedtime
s2 = no_nap_s_bedtime

# This is computed directly using the formula above
# Sometimes the formulas in statistics can be long!
squared_pooled_se = ((n1 - 1) * s1 ** 2 + (n2 - 1) * s2 ** 2) / (n1 + n2 - 2) * (1 / n1 + 1 / n2)

pooled_se = np.sqrt(squared_pooled_se)
# Print out the results
{
    "n1": n1,
    "n2": n2,
    "s1": s1,
    "s2": s2,
    "pooled_se": pooled_se
}
```




    {'n1': 15,
     'n2': 5,
     's1': 0.5910619981984009,
     's2': 0.5075923561284187,
     'pooled_se': 0.2961871280370147}




```python
# Using the information above, we can give the answer to these questions:
print("The pooled standard error is: {:.2f}".format(pooled_se))

# We have n1 + n2 - 2 degrees of freedom in a pooled independent t-test so we can compute this directly
degrees_of_freedom = n1 + n2 - 2
print("The degrees of freedom is: {}".format(degrees_of_freedom))
```

    The pooled standard error is: 0.30
    The degrees of freedom is: 18



```python
# We can compute the t-statistic using the following formula:
#      best estimate - null hypothesis
# t = ---------------------------------
#         estimated standard error
#

# Our best estimate of the difference is represented by the difference
# in the sample means
best_estimate = nap_mean_bedtime - no_nap_mean_bedtime
# Our null hypothesis is there is no difference
null_hypothesis = 0 
# Our estimated standard error is equal to the pooled standard error
#estimated_standard_error = pooled_se
estimated_standard_error = np.sqrt(s1**2/n1 + s2**2/n2)

t_test_stat = (best_estimate - null_hypothesis) / estimated_standard_error
print("Our t-test statistic is: {:.4f}".format(t_test_stat))
```

    Our t-test statistic is: 2.6103



```python
# To find the area to the left of our t-value, we can use the t.cdf function:
area_to_the_left = t.cdf(t_test_stat, degrees_of_freedom)
print("The area to the left of our t-test-statistic is {:.5f}".format(area_to_the_left))
print("The area to the right of our t-test-statistic is {:.5f}".format(1 - area_to_the_left))
```

    The area to the left of our t-test-statistic is 0.98658
    The area to the right of our t-test-statistic is 0.01342



```python
area_to_the_right = 1 - area_to_the_left
# Since our null hypothesis was that \mu was not equal to 0.0, we need a 
# two sided p-value and not a one sided p-value
two_sided_p_value = 2 * area_to_the_right
"Our two-sided p-value, to the nearest hundredth, is: {:.2f}".format(two_sided_p_value)
```




    'Our two-sided p-value, to the nearest hundredth, is: 0.03'




```python
from scipy import stats
# We can use the function mentioned above to test out our answer!
stats.ttest_ind(nap_bedtime, no_nap_bedtime, equal_var = True)
```




    Ttest_indResult(statistic=2.4106381824626966, pvalue=0.026834082877686044)




```python
# We can see that our results are identical which is great to see !
scipy_p_value = stats.ttest_ind(nap_bedtime, no_nap_bedtime, equal_var = True).pvalue
our_p_value = two_sided_p_value
"Our p-value was: {:.4f} which is the same as scipy's p-value of {:.4f}!".format(our_p_value, scipy_p_value)
```




    "Our p-value was: 0.0268 which is the same as scipy's p-value of 0.0268!"




```python
"The t-test statistic is {:.4f}".format(t_test_stat)
```




    'The t-test statistic is 2.4106'




```python
nap_sleepdur = df['24 h sleep duration'][this_person_naps]
nap_sleepdur
```




    5     695.95
    6     724.40
    7     648.40
    8     782.30
    9     656.17
    10    753.95
    11    717.00
    12    705.13
    13    719.55
    14    658.75
    15    710.58
    16    724.00
    17    663.40
    18    766.40
    19    707.00
    Name: 24 h sleep duration, dtype: float64




```python
no_nap_sleepdur = df['24 h sleep duration'][this_person_doesnt_nap] 
no_nap_sleepdur
```




    0    629.4
    1    672.4
    2    628.8
    3    766.6
    4    678.0
    Name: 24 h sleep duration, dtype: float64




```python
nap_mean_sleepdur = np.mean(nap_sleepdur)
nap_mean_sleepdur
```




    708.8653333333333




```python
no_nap_mean_sleepdur = np.mean(no_nap_sleepdur)
no_nap_mean_sleepdur
```




    675.04




```python
nap_s_sleepdur = np.std(nap_sleepdur, ddof = 1)
nap_s_sleepdur
```




    40.164759049741726




```python
no_nap_s_sleepdur = np.std(no_nap_sleepdur, ddof = 1)
no_nap_s_sleepdur
```




    56.169635925471354




```python
# To get the number of rows in a dataframe, you can get the shape of the dataframe 
# and then just get the first element.
n1 = nap_sleepdur.shape[0]
n2 = no_nap_sleepdur.shape[0]
s1 = nap_s_sleepdur
s2 = no_nap_s_sleepdur

# This is computed directly using the formula above
# Sometimes the formulas in statistics can be long!
squared_pooled_se = ((n1 - 1) * s1 ** 2 + (n2 - 1) * s2 ** 2) / (n1 + n2 - 2) * (1 / n1 + 1 / n2)

pooled_se = np.sqrt(squared_pooled_se)
# Print out the results
{
    "n1": n1,
    "n2": n2,
    "s1": s1,
    "s2": s2,
    "pooled_se": pooled_se
}
```




    {'n1': 15,
     'n2': 5,
     's1': 40.164759049741726,
     's2': 56.169635925471354,
     'pooled_se': 22.837598035900864}




```python
# We can compute the t-statistic using the following formula:
#      best estimate - null hypothesis
# t = ---------------------------------
#         estimated standard error
#

# Our best estimate of the difference is represented by the difference
# in the sample means
best_estimate = nap_mean_sleepdur - no_nap_mean_sleepdur
# Our null hypothesis is there is no difference
null_hypothesis = 0 
# Our estimated standard error is equal to the pooled standard error
estimated_standard_error = pooled_se

t_test_stat = (best_estimate - null_hypothesis) / estimated_standard_error
print("Our t-test statistic is: {:.4f}".format(t_test_stat))
```

    Our t-test statistic is: 1.4811



```python
# To find the area to the left of our t-value, we can use the t.cdf function:
area_to_the_left = t.cdf(t_test_stat, degrees_of_freedom)
print("The area to the left of our t-test-statistic is {:.5f}".format(area_to_the_left))
print("The area to the right of our t-test-statistic is {:.5f}".format(1 - area_to_the_left))
```

    The area to the left of our t-test-statistic is 0.92207
    The area to the right of our t-test-statistic is 0.07793



```python
import scipy.stats

#find p-value
print(t_test_stat)
print(scipy.stats.norm.sf(t_test_stat))
print(1 - scipy.stats.norm.cdf(t_test_stat))
```

    1.4811248223284985
    0.06928665721738277
    0.06928665721738281

